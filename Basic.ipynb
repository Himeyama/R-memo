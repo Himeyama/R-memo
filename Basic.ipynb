{
 "cells": [
  {
   "cell_type": "markdown",
   "metadata": {},
   "source": [
    "## 変数\n",
    "\n",
    "### 代入\n",
    "```R\n",
    "var <- 1\n",
    "```"
   ]
  },
  {
   "cell_type": "code",
   "execution_count": 40,
   "metadata": {},
   "outputs": [
    {
     "data": {
      "text/html": [
       "1"
      ],
      "text/latex": [
       "1"
      ],
      "text/markdown": [
       "1"
      ],
      "text/plain": [
       "[1] 1"
      ]
     },
     "metadata": {},
     "output_type": "display_data"
    }
   ],
   "source": [
    "a <- 1\n",
    "a"
   ]
  },
  {
   "cell_type": "markdown",
   "metadata": {},
   "source": [
    "## 関数\n",
    "\n",
    "```R\n",
    "関数名 <- function(引数){\n",
    "    return()\n",
    "}\n",
    "```"
   ]
  },
  {
   "cell_type": "code",
   "execution_count": 12,
   "metadata": {},
   "outputs": [],
   "source": [
    "func <- function(x){\n",
    "    return(x + 1)\n",
    "}"
   ]
  },
  {
   "cell_type": "markdown",
   "metadata": {},
   "source": [
    "## クラス"
   ]
  },
  {
   "cell_type": "code",
   "execution_count": 53,
   "metadata": {},
   "outputs": [],
   "source": [
    "Foo <- setRefClass(\n",
    "    Class = \"Foo\",\n",
    "#     contains = \"Parent\"\n",
    "    \n",
    "    fields = list(\n",
    "        n = \"numeric\",\n",
    "        str = \"character\"\n",
    "    ),\n",
    "    \n",
    "    methods = list(\n",
    "        initialize = function(){\n",
    "        },\n",
    "        \n",
    "        func = function(){\n",
    "            n <<- n + 1\n",
    "            return(list(n, str))\n",
    "        }\n",
    "    )\n",
    ")"
   ]
  },
  {
   "cell_type": "code",
   "execution_count": 203,
   "metadata": {},
   "outputs": [
    {
     "data": {
      "text/html": [
       "<ol>\n",
       "\t<li>101</li>\n",
       "\t<li>'hogehoge'</li>\n",
       "</ol>\n"
      ],
      "text/latex": [
       "\\begin{enumerate}\n",
       "\\item 101\n",
       "\\item 'hogehoge'\n",
       "\\end{enumerate}\n"
      ],
      "text/markdown": [
       "1. 101\n",
       "2. 'hogehoge'\n",
       "\n",
       "\n"
      ],
      "text/plain": [
       "[[1]]\n",
       "[1] 101\n",
       "\n",
       "[[2]]\n",
       "[1] \"hogehoge\"\n"
      ]
     },
     "metadata": {},
     "output_type": "display_data"
    }
   ],
   "source": [
    "foo <- Foo$new()\n",
    "foo$n <- 100\n",
    "foo$str <- \"hogehoge\"\n",
    "foo$func()"
   ]
  },
  {
   "cell_type": "markdown",
   "metadata": {},
   "source": [
    "## 表示\n",
    "```R\n",
    "cat() # 文字列の表示\n",
    "sprintf(\"フォーマット\", 値) # フォーマット付きで表示\n",
    "print() # オブジェクトの表示\n",
    "str() # オブジェクトの内容を表示\n",
    "```"
   ]
  },
  {
   "cell_type": "code",
   "execution_count": 127,
   "metadata": {},
   "outputs": [
    {
     "name": "stdout",
     "output_type": "stream",
     "text": [
      "1 \n",
      "1.000000 \n",
      "[1] 1\n",
      " num 1\n"
     ]
    }
   ],
   "source": [
    "cat(1, \"\\n\")\n",
    "cat(sprintf(\"%f\", 1), \"\\n\")\n",
    "print(1)\n",
    "str(1)"
   ]
  },
  {
   "cell_type": "markdown",
   "metadata": {},
   "source": [
    "## 真偽値"
   ]
  },
  {
   "cell_type": "code",
   "execution_count": 183,
   "metadata": {},
   "outputs": [
    {
     "data": {
      "text/html": [
       "'偽'"
      ],
      "text/latex": [
       "'偽'"
      ],
      "text/markdown": [
       "'偽'"
      ],
      "text/plain": [
       "[1] \"偽\""
      ]
     },
     "metadata": {},
     "output_type": "display_data"
    },
    {
     "data": {
      "text/html": [
       "'真'"
      ],
      "text/latex": [
       "'真'"
      ],
      "text/markdown": [
       "'真'"
      ],
      "text/plain": [
       "[1] \"真\""
      ]
     },
     "metadata": {},
     "output_type": "display_data"
    },
    {
     "data": {
      "text/html": [
       "'真'"
      ],
      "text/latex": [
       "'真'"
      ],
      "text/markdown": [
       "'真'"
      ],
      "text/plain": [
       "[1] \"真\""
      ]
     },
     "metadata": {},
     "output_type": "display_data"
    },
    {
     "data": {
      "text/html": [
       "'偽'"
      ],
      "text/latex": [
       "'偽'"
      ],
      "text/markdown": [
       "'偽'"
      ],
      "text/plain": [
       "[1] \"偽\""
      ]
     },
     "metadata": {},
     "output_type": "display_data"
    }
   ],
   "source": [
    "ifelse(FALSE, \"真\", \"偽\")\n",
    "ifelse(TRUE, \"真\", \"偽\")\n",
    "ifelse(1, \"真\", \"偽\")\n",
    "ifelse(0, \"真\", \"偽\")"
   ]
  },
  {
   "cell_type": "markdown",
   "metadata": {},
   "source": [
    "## 論理演算子\n",
    "\n",
    "- `a && b` a と b の論理積\n",
    "- `a || b` a と b の論理和\n",
    "- `!a` a の否定\n",
    "- `xor(a, b)` a と b の排他的論理和"
   ]
  },
  {
   "cell_type": "code",
   "execution_count": 187,
   "metadata": {},
   "outputs": [
    {
     "data": {
      "text/html": [
       "TRUE"
      ],
      "text/latex": [
       "TRUE"
      ],
      "text/markdown": [
       "TRUE"
      ],
      "text/plain": [
       "[1] TRUE"
      ]
     },
     "metadata": {},
     "output_type": "display_data"
    },
    {
     "data": {
      "text/html": [
       "FALSE"
      ],
      "text/latex": [
       "FALSE"
      ],
      "text/markdown": [
       "FALSE"
      ],
      "text/plain": [
       "[1] FALSE"
      ]
     },
     "metadata": {},
     "output_type": "display_data"
    },
    {
     "data": {
      "text/html": [
       "FALSE"
      ],
      "text/latex": [
       "FALSE"
      ],
      "text/markdown": [
       "FALSE"
      ],
      "text/plain": [
       "[1] FALSE"
      ]
     },
     "metadata": {},
     "output_type": "display_data"
    },
    {
     "data": {
      "text/html": [
       "FALSE"
      ],
      "text/latex": [
       "FALSE"
      ],
      "text/markdown": [
       "FALSE"
      ],
      "text/plain": [
       "[1] FALSE"
      ]
     },
     "metadata": {},
     "output_type": "display_data"
    }
   ],
   "source": [
    "TRUE && TRUE\n",
    "TRUE && FALSE\n",
    "FALSE && TRUE\n",
    "FALSE && FALSE"
   ]
  },
  {
   "cell_type": "code",
   "execution_count": 189,
   "metadata": {},
   "outputs": [
    {
     "data": {
      "text/html": [
       "TRUE"
      ],
      "text/latex": [
       "TRUE"
      ],
      "text/markdown": [
       "TRUE"
      ],
      "text/plain": [
       "[1] TRUE"
      ]
     },
     "metadata": {},
     "output_type": "display_data"
    },
    {
     "data": {
      "text/html": [
       "TRUE"
      ],
      "text/latex": [
       "TRUE"
      ],
      "text/markdown": [
       "TRUE"
      ],
      "text/plain": [
       "[1] TRUE"
      ]
     },
     "metadata": {},
     "output_type": "display_data"
    },
    {
     "data": {
      "text/html": [
       "TRUE"
      ],
      "text/latex": [
       "TRUE"
      ],
      "text/markdown": [
       "TRUE"
      ],
      "text/plain": [
       "[1] TRUE"
      ]
     },
     "metadata": {},
     "output_type": "display_data"
    },
    {
     "data": {
      "text/html": [
       "FALSE"
      ],
      "text/latex": [
       "FALSE"
      ],
      "text/markdown": [
       "FALSE"
      ],
      "text/plain": [
       "[1] FALSE"
      ]
     },
     "metadata": {},
     "output_type": "display_data"
    }
   ],
   "source": [
    "TRUE || TRUE\n",
    "TRUE || FALSE\n",
    "FALSE || TRUE\n",
    "FALSE || FALSE"
   ]
  },
  {
   "cell_type": "code",
   "execution_count": 192,
   "metadata": {},
   "outputs": [
    {
     "data": {
      "text/html": [
       "FALSE"
      ],
      "text/latex": [
       "FALSE"
      ],
      "text/markdown": [
       "FALSE"
      ],
      "text/plain": [
       "[1] FALSE"
      ]
     },
     "metadata": {},
     "output_type": "display_data"
    },
    {
     "data": {
      "text/html": [
       "TRUE"
      ],
      "text/latex": [
       "TRUE"
      ],
      "text/markdown": [
       "TRUE"
      ],
      "text/plain": [
       "[1] TRUE"
      ]
     },
     "metadata": {},
     "output_type": "display_data"
    }
   ],
   "source": [
    "!TRUE\n",
    "!FALSE"
   ]
  },
  {
   "cell_type": "code",
   "execution_count": 194,
   "metadata": {},
   "outputs": [
    {
     "data": {
      "text/html": [
       "FALSE"
      ],
      "text/latex": [
       "FALSE"
      ],
      "text/markdown": [
       "FALSE"
      ],
      "text/plain": [
       "[1] FALSE"
      ]
     },
     "metadata": {},
     "output_type": "display_data"
    },
    {
     "data": {
      "text/html": [
       "TRUE"
      ],
      "text/latex": [
       "TRUE"
      ],
      "text/markdown": [
       "TRUE"
      ],
      "text/plain": [
       "[1] TRUE"
      ]
     },
     "metadata": {},
     "output_type": "display_data"
    },
    {
     "data": {
      "text/html": [
       "TRUE"
      ],
      "text/latex": [
       "TRUE"
      ],
      "text/markdown": [
       "TRUE"
      ],
      "text/plain": [
       "[1] TRUE"
      ]
     },
     "metadata": {},
     "output_type": "display_data"
    },
    {
     "data": {
      "text/html": [
       "FALSE"
      ],
      "text/latex": [
       "FALSE"
      ],
      "text/markdown": [
       "FALSE"
      ],
      "text/plain": [
       "[1] FALSE"
      ]
     },
     "metadata": {},
     "output_type": "display_data"
    }
   ],
   "source": [
    "xor(TRUE, TRUE)\n",
    "xor(TRUE, FALSE)\n",
    "xor(FALSE, TRUE)\n",
    "xor(FALSE, FALSE)"
   ]
  },
  {
   "cell_type": "markdown",
   "metadata": {},
   "source": [
    "## if"
   ]
  },
  {
   "cell_type": "code",
   "execution_count": 146,
   "metadata": {},
   "outputs": [
    {
     "name": "stdout",
     "output_type": "stream",
     "text": [
      "10未満\n",
      "正以外\n",
      "0\n"
     ]
    }
   ],
   "source": [
    "x <- 0\n",
    "if(x < 10)\n",
    "    cat(\"10未満\\n\") else\n",
    "    cat(\"10以上\\n\")\n",
    "    \n",
    "if(x > 0){\n",
    "    cat(\"正\\n\")\n",
    "}else{\n",
    "    cat(\"正以外\\n\")\n",
    "}\n",
    "\n",
    "if(x > 0){\n",
    "    cat(\"正\\n\")\n",
    "}else if(x < 0){\n",
    "    cat(\"負\\n\")\n",
    "}else{\n",
    "    cat(\"0\\n\")\n",
    "}"
   ]
  },
  {
   "cell_type": "markdown",
   "metadata": {},
   "source": [
    "## ifelse"
   ]
  },
  {
   "cell_type": "code",
   "execution_count": 160,
   "metadata": {},
   "outputs": [
    {
     "name": "stdout",
     "output_type": "stream",
     "text": [
      "合格です\n"
     ]
    }
   ],
   "source": [
    "x <- 65\n",
    "pf = ifelse(x >= 60, \"合格\", \"不合格\")\n",
    "cat(pf, \"です\\n\", sep=\"\")"
   ]
  },
  {
   "cell_type": "markdown",
   "metadata": {},
   "source": [
    "# for\n",
    "- `next` それ以降をスキップする\n",
    "- `break` で抜ける"
   ]
  },
  {
   "cell_type": "code",
   "execution_count": 173,
   "metadata": {},
   "outputs": [
    {
     "name": "stdout",
     "output_type": "stream",
     "text": [
      "完璧完璧完璧完璧完璧完璧完璧完璧完璧完璧完璧完璧完璧完璧完璧完璧完璧完璧完璧完壁完璧完璧完璧完璧完璧完璧完璧完璧完璧完璧完璧完璧完璧完璧完璧完璧完璧完璧完璧完璧完璧完璧完璧完璧完璧完璧完璧完璧完璧完璧完璧完璧完璧完璧完璧完璧完璧完璧完璧完璧完璧完璧完璧完璧完璧完璧完璧完璧完璧完璧完璧完璧完璧完璧完璧完璧完璧完璧完璧完璧完璧完璧完璧完璧完璧完璧完璧完璧完璧完璧完璧完璧完璧完璧完璧完璧完璧完璧完璧完璧"
     ]
    }
   ],
   "source": [
    "for(x in 1:100){\n",
    "    cat(ifelse(x != 20, \"完璧\", \"完壁\"))\n",
    "}"
   ]
  },
  {
   "cell_type": "markdown",
   "metadata": {},
   "source": [
    "## while"
   ]
  },
  {
   "cell_type": "code",
   "execution_count": 172,
   "metadata": {},
   "outputs": [
    {
     "name": "stdout",
     "output_type": "stream",
     "text": [
      "完璧完璧完璧完璧完璧完璧完璧完璧完璧完璧完璧完璧完璧完璧完璧完璧完璧完璧完璧完璧完壁完璧完璧完璧完璧完璧完璧完璧完璧完璧完璧完璧完璧完璧完璧完璧完璧完璧完璧完璧完璧完璧完璧完璧完璧完璧完璧完璧完璧完璧完璧完璧完璧完璧完璧完璧完璧完璧完璧完璧完璧完璧完璧完璧完璧完璧完璧完璧完璧完璧完璧完璧完璧完璧完璧完璧完璧完璧完璧完璧完璧完璧完璧完璧完璧完璧完璧完璧完璧完璧完璧完璧完璧完璧完璧完璧完璧完璧完璧完璧完璧"
     ]
    }
   ],
   "source": [
    "x <- 0\n",
    "while(x <= 100){\n",
    "    cat(ifelse(x != 20, \"完璧\", \"完壁\"))\n",
    "    x <- x + 1\n",
    "}"
   ]
  },
  {
   "cell_type": "markdown",
   "metadata": {},
   "source": [
    "## repeat\n",
    "無限ループ"
   ]
  },
  {
   "cell_type": "code",
   "execution_count": 170,
   "metadata": {},
   "outputs": [
    {
     "name": "stdout",
     "output_type": "stream",
     "text": [
      "完璧完璧完璧完璧完璧完璧完璧完璧完璧完璧完璧完璧完璧完璧完璧完璧完璧完璧完璧完璧完壁完璧完璧完璧完璧完璧完璧完璧完璧完璧完璧完璧完璧完璧完璧完璧完璧完璧完璧完璧完璧完璧完璧完璧完璧完璧完璧完璧完璧完璧完璧完璧完璧完璧完璧完璧完璧完璧完璧完璧完璧完璧完璧完璧完璧完璧完璧完璧完璧完璧完璧完璧完璧完璧完璧完璧完璧完璧完璧完璧完璧完璧完璧完璧完璧完璧完璧完璧完璧完璧完璧完璧完璧完璧完璧完璧完璧完璧完璧完璧"
     ]
    }
   ],
   "source": [
    "x <- 0\n",
    "repeat{\n",
    "    if(x >= 100) break\n",
    "    cat(ifelse(x != 20, \"完璧\", \"完壁\"))\n",
    "    x <- x + 1\n",
    "}"
   ]
  },
  {
   "cell_type": "code",
   "execution_count": null,
   "metadata": {},
   "outputs": [],
   "source": []
  }
 ],
 "metadata": {
  "kernelspec": {
   "display_name": "R",
   "language": "R",
   "name": "ir"
  },
  "language_info": {
   "codemirror_mode": "r",
   "file_extension": ".r",
   "mimetype": "text/x-r-source",
   "name": "R",
   "pygments_lexer": "r",
   "version": "4.0.3"
  }
 },
 "nbformat": 4,
 "nbformat_minor": 4
}
