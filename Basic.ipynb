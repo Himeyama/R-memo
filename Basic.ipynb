{
 "cells": [
  {
   "cell_type": "markdown",
   "metadata": {},
   "source": [
    "## 変数\n",
    "\n",
    "### 代入\n",
    "```R\n",
    "var <- 1\n",
    "```"
   ]
  },
  {
   "cell_type": "code",
   "execution_count": 40,
   "metadata": {},
   "outputs": [
    {
     "data": {
      "text/html": [
       "1"
      ],
      "text/latex": [
       "1"
      ],
      "text/markdown": [
       "1"
      ],
      "text/plain": [
       "[1] 1"
      ]
     },
     "metadata": {},
     "output_type": "display_data"
    }
   ],
   "source": [
    "a <- 1\n",
    "a"
   ]
  },
  {
   "cell_type": "markdown",
   "metadata": {},
   "source": [
    "## 関数\n",
    "\n",
    "```R\n",
    "関数名 <- function(引数){\n",
    "    return()\n",
    "}\n",
    "```"
   ]
  },
  {
   "cell_type": "code",
   "execution_count": 12,
   "metadata": {},
   "outputs": [],
   "source": [
    "func <- function(x){\n",
    "    return(x + 1)\n",
    "}"
   ]
  },
  {
   "cell_type": "markdown",
   "metadata": {},
   "source": [
    "## クラス"
   ]
  },
  {
   "cell_type": "code",
   "execution_count": 53,
   "metadata": {},
   "outputs": [],
   "source": [
    "Foo <- setRefClass(\n",
    "    Class = \"Foo\",\n",
    "#     contains = \"Parent\"\n",
    "    \n",
    "    fields = list(\n",
    "        n = \"numeric\",\n",
    "        str = \"character\"\n",
    "    ),\n",
    "    \n",
    "    methods = list(\n",
    "        initialize = function(){\n",
    "        },\n",
    "        \n",
    "        func = function(){\n",
    "            n <<- n + 1\n",
    "            return(list(n, str))\n",
    "        }\n",
    "    )\n",
    ")"
   ]
  },
  {
   "cell_type": "code",
   "execution_count": 52,
   "metadata": {},
   "outputs": [
    {
     "data": {
      "text/html": [
       "<ol>\n",
       "\t<li>101</li>\n",
       "\t<li>'hogehoge'</li>\n",
       "</ol>\n"
      ],
      "text/latex": [
       "\\begin{enumerate}\n",
       "\\item 101\n",
       "\\item 'hogehoge'\n",
       "\\end{enumerate}\n"
      ],
      "text/markdown": [
       "1. 101\n",
       "2. 'hogehoge'\n",
       "\n",
       "\n"
      ],
      "text/plain": [
       "[[1]]\n",
       "[1] 101\n",
       "\n",
       "[[2]]\n",
       "[1] \"hogehoge\"\n"
      ]
     },
     "metadata": {},
     "output_type": "display_data"
    }
   ],
   "source": [
    "foo <- Foo$new()\n",
    "foo$n <- 100\n",
    "foo$str <- \"hogehoge\"\n",
    "foo$func()"
   ]
  },
  {
   "cell_type": "markdown",
   "metadata": {},
   "source": [
    "# 表示\n",
    "```R\n",
    "cat() # 文字列の表示\n",
    "sprintf(\"フォーマット\", 値) # フォーマット付きで表示\n",
    "print() # オブジェクトの表示\n",
    "str() # オブジェクトの内容を表示\n",
    "```"
   ]
  },
  {
   "cell_type": "code",
   "execution_count": 127,
   "metadata": {},
   "outputs": [
    {
     "name": "stdout",
     "output_type": "stream",
     "text": [
      "1 \n",
      "1.000000 \n",
      "[1] 1\n",
      " num 1\n"
     ]
    }
   ],
   "source": [
    "cat(1, \"\\n\")\n",
    "cat(sprintf(\"%f\", 1), \"\\n\")\n",
    "print(1)\n",
    "str(1)"
   ]
  },
  {
   "cell_type": "markdown",
   "metadata": {},
   "source": [
    "# for\n",
    "- `next` それ以降をスキップする\n",
    "- `break` で抜ける"
   ]
  },
  {
   "cell_type": "code",
   "execution_count": 130,
   "metadata": {},
   "outputs": [
    {
     "name": "stdout",
     "output_type": "stream",
     "text": [
      "1 \n",
      "2 \n",
      "3 \n",
      "\n",
      "2 \n",
      "3 \n",
      "4 \n",
      "5 \n",
      "6 \n",
      "\n",
      "1 \n",
      "2 \n",
      "4 \n",
      "5 \n",
      "\n",
      "1 \n",
      "2 \n"
     ]
    }
   ],
   "source": [
    "for(i in c(1, 2, 3)){\n",
    "    cat(i, \"\\n\")\n",
    "}\n",
    "cat(\"\\n\")\n",
    "\n",
    "for(i in 2:6){\n",
    "    cat(i, \"\\n\")\n",
    "}\n",
    "cat(\"\\n\")\n",
    "\n",
    "for(i in 1:5){\n",
    "    if(i == 3) next\n",
    "    cat(i, \"\\n\")\n",
    "}\n",
    "cat(\"\\n\")\n",
    "\n",
    "for(i in 1:5){\n",
    "    if(i == 3) break\n",
    "    cat(i, \"\\n\")\n",
    "}"
   ]
  },
  {
   "cell_type": "code",
   "execution_count": null,
   "metadata": {},
   "outputs": [],
   "source": []
  }
 ],
 "metadata": {
  "kernelspec": {
   "display_name": "R",
   "language": "R",
   "name": "ir"
  },
  "language_info": {
   "codemirror_mode": "r",
   "file_extension": ".r",
   "mimetype": "text/x-r-source",
   "name": "R",
   "pygments_lexer": "r",
   "version": "4.0.3"
  }
 },
 "nbformat": 4,
 "nbformat_minor": 4
}
